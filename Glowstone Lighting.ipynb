{
 "cells": [
  {
   "cell_type": "code",
   "execution_count": 1,
   "id": "sustainable-dover",
   "metadata": {},
   "outputs": [],
   "source": [
    "import socket\n",
    "IP = '192.168.1.229'\n",
    "PORT = 8899\n",
    "BUFFER_SIZE = 1024"
   ]
  },
  {
   "cell_type": "code",
   "execution_count": null,
   "id": "presidential-taylor",
   "metadata": {},
   "outputs": [],
   "source": [
    "hs_int = b\"\\x55\\xaa\\x5a\\xa5\\x7e\\x00\\x00\\x00\\x00\\x01\\x00\\x00\\x00\\x01\\x00\\x70\\x00\\x00\\x00\\x7e\"\n",
    "hs_detail = b\"\\x55\\xaa\\x5a\\xa5\\x7e\\x01\\x42\\x31\\xc2\\x01\\x00\\x30\\x1c\\x01\\x00\\x71\\x00\\x00\\x00\\x7e\"\n",
    "\n",
    "on_int = b\"\\x55\\xaa\\x5a\\xa5\\x7e\\x02\\x42\\x31\\xc2\\x01\\x00\\x30\\x1c\\x01\\x00\\x7f\\x00\\x00\\x00\\x7e\"\n",
    "on_release = b\"\\x55\\xaa\\x5a\\xa5\\x7e\\x03\\x42\\x31\\xc2\\x01\\x00\\x30\\x1c\\x01\\x00\\x0a\\x01\\x00\\x01\\x00\\x7e\"\n",
    "\n",
    "off_init = b\"\\x45\\x00\\x00\\x3c\\x8f\\x87\\x40\\x00\\x40\\x06\\xd4\\xa5\\x0a\\x01\\x0a\\x01\\xc0\\xa8\\x01\\xe5\\x86\\xdd\\x22\\xc3\\x42\\x1d\\x2b\\xdd\\x1a\\xd9\\x69\\x74\\x50\\x18\\x01\\x38\\xec\\x55\\x00\\x00\\x55\\xaa\\x5a\\xa5\\x7e\\x02\\x42\\x31\\xc2\\x01\\x00\\x30\\x1c\\x01\\x00\\x7f\\x00\\x00\\x00\\x7e\"\n",
    "off_release = b\"\\x45\\x00\\x00\\x3d\\x8f\\x89\\x40\\x00\\x40\\x06\\xd4\\xa2\\x0a\\x01\\x0a\\x01\\xc0\\xa8\\x01\\xe5\\x86\\xdd\\x22\\xc3\\x42\\x1d\\x2b\\xf1\\x1a\\xd9\\x69\\x8c\\x50\\x18\\x01\\x38\\x6e\\x1a\\x00\\x00\\x55\\xaa\\x5a\\xa5\\x7e\\x03\\x42\\x31\\xc2\\x01\\x00\\x30\\x1c\\x01\\x00\\x0a\\x01\\x00\\x00\\x00\\x7e\"\n",
    "\n",
    "#colours\n",
    "white = b\"\\x45\\x00\\x00\\x43\\x3e\\x40\\x40\\x00\\x40\\x06\\x25\\xe6\\x0a\\x01\\x0a\\x01\\xc0\\xa8\\x01\\xe5\\x8d\\x27\\x22\\xc3\\xaf\\xc0\\x55\\x28\\x40\\x30\\x34\\xdf\\x50\\x18\\x01\\x38\\x59\\x4b\\x00\\x00\\x55\\xaa\\x5a\\xa5\\x7e\\x07\\x42\\x31\\xc2\\x01\\x00\\x30\\x1c\\x01\\x00\\x01\\x07\\x00\\x80\\xff\\xff\\x00\\x00\\xff\\x00\\x00\\x7e\"\n",
    "red =   b\"\\x55\\xaa\\x5a\\xa5\\x7e\\x2a\\x42\\x31\\xc2\\x01\\x00\\x30\\x1c\\x01\\x00\\x01\\x07\\x00\\xff\\x17\\x1b\\x00\\x00\\xff\\x00\\x00\\x7e\"\n",
    "green = b\"\\x55\\xaa\\x5a\\xa5\\x7e\\x2c\\x42\\x31\\xc2\\x01\\x00\\x30\\x1c\\x01\\x00\\x01\\x07\\x00\\x29\\xff\\x44\\x00\\x00\\xff\\x00\\x00\\x7e\"\n",
    "blue =  b\"\\x55\\xaa\\x5a\\xa5\\x7e\\x2e\\x42\\x31\\xc2\\x01\\x00\\x30\\x1c\\x01\\x00\\x01\\x07\\x00\\x06\\x11\\xff\\x00\\x00\\xff\\x00\\x00\\x7e\""
   ]
  },
  {
   "cell_type": "code",
   "execution_count": null,
   "id": "found-barbados",
   "metadata": {},
   "outputs": [],
   "source": [
    "r = 255\n",
    "g = 5\n",
    "b = 200"
   ]
  },
  {
   "cell_type": "code",
   "execution_count": 35,
   "id": "uniform-mistress",
   "metadata": {},
   "outputs": [],
   "source": [
    "def lights_colour(socket,r,g,b):\n",
    "        lights_sync(s)\n",
    "        header = b\"\\x55\\xaa\\x5a\\xa5\\x7e\"\n",
    "        colour_modifier = b\"\\x2c\"\n",
    "        node = b\"\\x42\\x31\\xc2\\x01\\x00\\x30\\x1c\\x01\\x00\\x01\\x07\\x00\"\n",
    "        red = bytes((r,))\n",
    "        green = bytes((g,))\n",
    "        blue = bytes((b,))\n",
    "        colour = b\"\\xff\\x7f\\x11\"\n",
    "        finish = b\"\\x00\\x00\\xff\\x00\\x00\\x7e\"\n",
    "        packet = header+colour_modifier+node+red+green+blue+finish\n",
    "        socket.send(packet)"
   ]
  },
  {
   "cell_type": "code",
   "execution_count": 36,
   "id": "meaning-campaign",
   "metadata": {},
   "outputs": [],
   "source": [
    "def lights_connect(IP, PORT):\n",
    "    s = socket.socket(socket.AF_INET, socket.SOCK_STREAM)\n",
    "    s.settimeout(20)\n",
    "    s.connect((IP, PORT))\n",
    "    print(\"Connection complete\")\n",
    "    return s"
   ]
  },
  {
   "cell_type": "code",
   "execution_count": 37,
   "id": "marked-inclusion",
   "metadata": {},
   "outputs": [],
   "source": [
    "def lights_sync(s):\n",
    "    hs_int = b\"\\x55\\xaa\\x5a\\xa5\\x7e\\x00\\x00\\x00\\x00\\x01\\x00\\x00\\x00\\x01\\x00\\x70\\x00\\x00\\x00\\x7e\"\n",
    "    s.send(hs_int)\n",
    "    data = s.recv(BUFFER_SIZE)\n",
    "    return data"
   ]
  },
  {
   "cell_type": "code",
   "execution_count": 38,
   "id": "naval-customs",
   "metadata": {},
   "outputs": [],
   "source": [
    "def lights_detail(s):\n",
    "    hs_detail = b\"\\x55\\xaa\\x5a\\xa5\\x7e\\x01\\x42\\x31\\xc2\\x01\\x00\\x30\\x1c\\x01\\x00\\x71\\x00\\x00\\x00\\x7e\"\n",
    "    s.send(hs_detail)\n",
    "    data = s.recv(BUFFER_SIZE)\n",
    "    return data"
   ]
  },
  {
   "cell_type": "code",
   "execution_count": 39,
   "id": "respiratory-hartford",
   "metadata": {},
   "outputs": [],
   "source": [
    "def lights_on(s):\n",
    "    lights_sync(s)\n",
    "    on_int = b\"\\x55\\xaa\\x5a\\xa5\\x7e\\x02\\x42\\x31\\xc2\\x01\\x00\\x30\\x1c\\x01\\x00\\x7f\\x00\\x00\\x00\\x7e\"\n",
    "    on_release = b\"\\x55\\xaa\\x5a\\xa5\\x7e\\x03\\x42\\x31\\xc2\\x01\\x00\\x30\\x1c\\x01\\x00\\x0a\\x01\\x00\\x01\\x00\\x7e\"\n",
    "    s.send(on_int)\n",
    "    s.send(on_release)"
   ]
  },
  {
   "cell_type": "code",
   "execution_count": 40,
   "id": "general-hundred",
   "metadata": {},
   "outputs": [],
   "source": [
    "def lights_off(s):\n",
    "    lights_sync(s)\n",
    "    off_init = b\"\\x45\\x00\\x00\\x3c\\x8f\\x87\\x40\\x00\\x40\\x06\\xd4\\xa5\\x0a\\x01\\x0a\\x01\\xc0\\xa8\\x01\\xe5\\x86\\xdd\\x22\\xc3\\x42\\x1d\\x2b\\xdd\\x1a\\xd9\\x69\\x74\\x50\\x18\\x01\\x38\\xec\\x55\\x00\\x00\\x55\\xaa\\x5a\\xa5\\x7e\\x02\\x42\\x31\\xc2\\x01\\x00\\x30\\x1c\\x01\\x00\\x7f\\x00\\x00\\x00\\x7e\"\n",
    "    off_release = b\"\\x45\\x00\\x00\\x3d\\x8f\\x89\\x40\\x00\\x40\\x06\\xd4\\xa2\\x0a\\x01\\x0a\\x01\\xc0\\xa8\\x01\\xe5\\x86\\xdd\\x22\\xc3\\x42\\x1d\\x2b\\xf1\\x1a\\xd9\\x69\\x8c\\x50\\x18\\x01\\x38\\x6e\\x1a\\x00\\x00\\x55\\xaa\\x5a\\xa5\\x7e\\x03\\x42\\x31\\xc2\\x01\\x00\\x30\\x1c\\x01\\x00\\x0a\\x01\\x00\\x00\\x00\\x7e\"\n",
    "    s.send(off_init)\n",
    "    s.send(off_release)"
   ]
  },
  {
   "cell_type": "code",
   "execution_count": 44,
   "id": "micro-victory",
   "metadata": {},
   "outputs": [],
   "source": [
    "def lights_disconnect(s):\n",
    "    s.close()"
   ]
  },
  {
   "cell_type": "code",
   "execution_count": 101,
   "id": "integral-charger",
   "metadata": {},
   "outputs": [],
   "source": [
    "colour_modes = [1,2,3,4,5,6,7]\n",
    "def lights_mode(socket, m):\n",
    "        # 1 to 7\n",
    "        lights_sync(s)\n",
    "        rainbow_mode = b'x03\\x07\\x00\\x07\\xff\\x07\\x00\\x7e' #x03\n",
    "        header = b\"\\x55\\xaa\\x5a\\xa5\\x7e\\x2b\\x42\\x31\\xc2\\x01\\x00\\x30\\x1c\\x01\\x00\\x03\\x03\\x00\"\n",
    "        mode = bytes((m,))\n",
    "        finish = b\"\\xff\\x07\\x00\\x7e\"\n",
    "        packet = header+mode+finish\n",
    "        socket.send(packet)"
   ]
  },
  {
   "cell_type": "code",
   "execution_count": 45,
   "id": "utility-strategy",
   "metadata": {},
   "outputs": [
    {
     "name": "stdout",
     "output_type": "stream",
     "text": [
      "Connection complete\n"
     ]
    }
   ],
   "source": [
    "s = lights_connect(IP, PORT)"
   ]
  },
  {
   "cell_type": "code",
   "execution_count": 49,
   "id": "short-iraqi",
   "metadata": {},
   "outputs": [
    {
     "data": {
      "text/plain": [
       "b'U\\xaaZ\\xa5~\\x00B1\\xc2\\x01\\x000\\x1c\\x01\\x00\\xf0\\x00\\x00\\x00~U\\xaaZ\\xa5~,B1\\xc2\\x01\\x000\\x1c\\x01\\x00\\x81\\x01\\x00\\x01\\x00~'"
      ]
     },
     "execution_count": 49,
     "metadata": {},
     "output_type": "execute_result"
    }
   ],
   "source": [
    "lights_sync(s)"
   ]
  },
  {
   "cell_type": "code",
   "execution_count": 47,
   "id": "handmade-arctic",
   "metadata": {},
   "outputs": [],
   "source": [
    "lights_on(s)"
   ]
  },
  {
   "cell_type": "code",
   "execution_count": 23,
   "id": "veterinary-knife",
   "metadata": {},
   "outputs": [],
   "source": [
    "lights_off(s)"
   ]
  },
  {
   "cell_type": "code",
   "execution_count": 87,
   "id": "cheap-assurance",
   "metadata": {},
   "outputs": [],
   "source": [
    "lights_colour(s,255,255,255)"
   ]
  },
  {
   "cell_type": "code",
   "execution_count": 106,
   "id": "lonely-donna",
   "metadata": {},
   "outputs": [],
   "source": [
    "lights_disconnect(s)"
   ]
  },
  {
   "cell_type": "code",
   "execution_count": 105,
   "id": "neural-bicycle",
   "metadata": {},
   "outputs": [],
   "source": [
    "lights_mode(s,6)"
   ]
  },
  {
   "cell_type": "code",
   "execution_count": null,
   "id": "immune-parade",
   "metadata": {},
   "outputs": [],
   "source": [
    "rainbow = b\"\\x55\\xaa\\x5a\\xa5\\x7e\\x2b\\x42\\x31\\xc2\\x01\\x00\\x30\\x1c\\x01\\x00\\x03\\x03\\x00\\x07\\xff\\x07\\x00\\x7e\"\n",
    "b'x03\\x07\\x00\\x07\\xff\\x07\\x00\\x7e\n",
    "x03 = rainbow\n",
    "x07\\xff\\x07\\x00\\x7e\n",
    "other modes?\n"
   ]
  },
  {
   "cell_type": "code",
   "execution_count": 100,
   "id": "subject-function",
   "metadata": {},
   "outputs": [
    {
     "data": {
      "text/plain": [
       "23"
      ]
     },
     "execution_count": 100,
     "metadata": {},
     "output_type": "execute_result"
    }
   ],
   "source": [
    "lights_sync(s)\n",
    "s.send(b\"\\x55\\xaa\\x5a\\xa5\\x7e\\x2b\\x42\\x31\\xc2\\x01\\x00\\x30\\x1c\\x01\\x00\\x03\\x07\\x00\\x01\\xff\\x15\\x00\\x7e\")\n"
   ]
  },
  {
   "cell_type": "code",
   "execution_count": null,
   "id": "solid-running",
   "metadata": {},
   "outputs": [],
   "source": [
    "\"\\x55\\xaa\\x5a\\xa5\\x7e\\x2a\\x42\\x31\\xc2\\x01\\x00\\x30\\x1c\\x01\\x00\\x01\\x07\\x00\\x2c\\x5b\\xff\\x00\\x00\\xff\\x00\\x00\\x7e\"\n",
    "\"\\x55\\xaa\\x5a\\xa5\\x7e\\x2a\\x42\\x31\\xc2\\x01\\x00\\x30\\x1c\\x01\\x00\\x01\\x07\\x00\\x28\\x5b\\xff\\x00\\x00\\xff\\x00\\x00\\x7e\"\n",
    "\"\\x55\\xaa\\x5a\\xa5\\x7e\\x2b\\x42\\x31\\xc2\\x01\\x00\\x30\\x1c\\x01\\x00\\x03\\x03\\x00\\xff\\xff\\xff\\x00\\x7e\"\n"
   ]
  }
 ],
 "metadata": {
  "kernelspec": {
   "display_name": "Python 3",
   "language": "python",
   "name": "python3"
  },
  "language_info": {
   "codemirror_mode": {
    "name": "ipython",
    "version": 3
   },
   "file_extension": ".py",
   "mimetype": "text/x-python",
   "name": "python",
   "nbconvert_exporter": "python",
   "pygments_lexer": "ipython3",
   "version": "3.8.8"
  }
 },
 "nbformat": 4,
 "nbformat_minor": 5
}
